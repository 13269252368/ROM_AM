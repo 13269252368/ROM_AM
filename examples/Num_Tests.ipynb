{
 "cells": [
  {
   "cell_type": "code",
   "execution_count": 1,
   "metadata": {},
   "outputs": [],
   "source": [
    "import numpy as np\n",
    "from mpl_toolkits import mplot3d\n",
    "from cntxt import rom_am\n",
    "from rom_am import ROM\n",
    "import matplotlib.pyplot as plt"
   ]
  },
  {
   "cell_type": "code",
   "execution_count": 2,
   "metadata": {},
   "outputs": [],
   "source": [
    "import scipy.io\n",
    "mat = scipy.io.loadmat('../DATA/CYLINDER_ALL.mat',)\n",
    "nx = 449\n",
    "ny = 199\n",
    "dt = .2"
   ]
  },
  {
   "cell_type": "code",
   "execution_count": 3,
   "metadata": {},
   "outputs": [],
   "source": [
    "xx, yy = np.meshgrid(np.linspace(-1, 8, nx), np.linspace(-2, 2, ny))\n",
    "\n",
    "def cylinder_clean_data(X, fill = 0):\n",
    "    \n",
    "    uu = X.reshape((ny, nx, -1), order = 'F')\n",
    "    uu[(xx**2+yy**2)<.5**2, :] = fill\n",
    "    \n",
    "    return uu.reshape((ny*nx, -1), order = 'F')\n",
    "\n",
    "def reshaping(X):\n",
    "    \n",
    "    return X.reshape((ny, nx), order = 'F')\n",
    "\n",
    "cylinder_idx = (xx**2+yy**2)<.5**2"
   ]
  },
  {
   "cell_type": "markdown",
   "metadata": {},
   "source": [
    "## X Velocity reduction"
   ]
  },
  {
   "cell_type": "code",
   "execution_count": 4,
   "metadata": {},
   "outputs": [],
   "source": [
    "X = cylinder_clean_data(mat[\"UALL\"])"
   ]
  },
  {
   "cell_type": "code",
   "execution_count": 5,
   "metadata": {},
   "outputs": [],
   "source": [
    "pod = ROM(rom=\"pod\")\n",
    "pod.decompose(X, alg=\"snap\",)"
   ]
  },
  {
   "cell_type": "markdown",
   "metadata": {},
   "source": [
    "## CPU Time (SVD vs Snapshot)"
   ]
  },
  {
   "cell_type": "code",
   "execution_count": 6,
   "metadata": {},
   "outputs": [
    {
     "data": {
      "image/png": "[encoded data removed]",
      "text/plain": [
       "<matplotlib.figure.Figure at 0x7fa9e15e32e8>"
      ]
     },
     "metadata": {},
     "output_type": "display_data"
    }
   ],
   "source": [
    "import time\n",
    "cov_times = []\n",
    "svd_times = []\n",
    "sizes = [20, 50, 80, 100, 120, 151]\n",
    "nt = 5\n",
    "\n",
    "for s in  sizes:\n",
    "    t0 = time.time()\n",
    "    for _ in range (nt):\n",
    "        pod = ROM(rom=\"pod\")\n",
    "        pod.decompose(X[:, :s], alg=\"snap\",)\n",
    "    t1 = time.time()\n",
    "    cov_times.append((t1 - t0)/nt)\n",
    "\n",
    "    t0 = time.time()\n",
    "    for _ in range (nt):\n",
    "        pod = ROM(rom=\"pod\")\n",
    "        pod.decompose(X[:, :s], alg=\"svd\",)\n",
    "    t1 = time.time()\n",
    "    svd_times.append((t1 - t0)/nt)\n",
    "\n",
    "plt.semilogy(sizes, cov_times, \"o-\", label = \"snap\", linewidth = 1.4);\n",
    "plt.semilogy(sizes, svd_times, \"o-\", label = \"SVD\", linewidth = 1.4);\n",
    "plt.grid();\n",
    "plt.legend();\n",
    "plt.tight_layout();"
   ]
  },
  {
   "cell_type": "markdown",
   "metadata": {},
   "source": [
    "## ----------------------------------------------------------------------------------------------------------------------"
   ]
  },
  {
   "cell_type": "markdown",
   "metadata": {},
   "source": [
    "## DMD Reduction"
   ]
  },
  {
   "cell_type": "markdown",
   "metadata": {},
   "source": [
    "DMD reduction on X components velocity"
   ]
  },
  {
   "cell_type": "code",
   "execution_count": 7,
   "metadata": {},
   "outputs": [],
   "source": [
    "## Parameters ----------------\n",
    "rank = 21\n",
    "dt = .2\n",
    "X = np.nan_to_num(cylinder_clean_data(mat[\"UALL\"]), 0) # X-Velocity\n",
    "t = np.linspace(0, (X.shape[1]-1) * dt, X.shape[1])"
   ]
  },
  {
   "cell_type": "code",
   "execution_count": 8,
   "metadata": {},
   "outputs": [],
   "source": [
    "dmd = ROM(\"dmd\")\n",
    "dmd.decompose(X[:, :-1], X[:, 1::], dt = dt, rank = rank)"
   ]
  },
  {
   "cell_type": "markdown",
   "metadata": {},
   "source": [
    "## Fastest way to compute DMD mode amplitudes\n",
    "Reconstruct data using dmd on the first 151 instants"
   ]
  },
  {
   "cell_type": "code",
   "execution_count": 9,
   "metadata": {
    "scrolled": true
   },
   "outputs": [
    {
     "name": "stdout",
     "output_type": "stream",
     "text": [
      "Least square  0.0650958514213562  s\n",
      "Pseudo inverse  0.2470509648323059  s\n",
      "Difference 1.2674159177869554e-15\n",
      "schmidt  0.00012307167053222657  s\n",
      "Difference 1.4141743350138145\n",
      "tu et al. 1  0.00014022111892700195  s\n",
      "Difference 1.4137960048744116\n",
      "tu et al. 2  0.00012759685516357423  s\n",
      "Difference 1.4137960048744116\n"
     ]
    }
   ],
   "source": [
    "import time\n",
    "\n",
    "t0 = time.time()\n",
    "for _ in range(100):\n",
    "    s, _, _, _ = np.linalg.lstsq(dmd.dmd_modes, X[:, 0], rcond=None)\n",
    "t1 = time.time()\n",
    "print(\"Least square \", .01 * (t1 - t0), \" s\")\n",
    "\n",
    "t0 = time.time()\n",
    "for _ in range(100):\n",
    "    s_ = np.linalg.pinv((dmd.dmd_modes)) @ X[:, 0]\n",
    "t1 = time.time()\n",
    "print(\"Pseudo inverse \", .01 * (t1 - t0), \" s\")\n",
    "print(\"Difference\", np.linalg.norm(s-s_)/np.linalg.norm(s))\n",
    "\n",
    "\n",
    "lambd, w = np.linalg.eig(dmd.A_tilde)\n",
    "idx = np.abs(np.imag(lambd)).argsort()\n",
    "lambd = lambd[idx]\n",
    "w = w[:, idx]\n",
    "t0 = time.time()\n",
    "for _ in range(100):\n",
    "    alpha1 = dmd.singvals * dmd.time[:, 0]\n",
    "    s_schmidt = np.linalg.solve(w, alpha1)\n",
    "t1 = time.time()\n",
    "print(\"schmidt \", .01 * (t1 - t0), \" s\")\n",
    "print(\"Difference\", np.linalg.norm(s_schmidt-s_)/np.linalg.norm(s_))\n",
    "\n",
    "\n",
    "t0 = time.time()\n",
    "for _ in range(100):\n",
    "    alpha1 = dmd.singvals * dmd.time[:, 0]\n",
    "    s_tu = np.linalg.solve((dmd.A_tilde @ w), alpha1)\n",
    "t1 = time.time()\n",
    "print(\"tu et al. 1 \", .01 * (t1 - t0), \" s\")\n",
    "print(\"Difference\", np.linalg.norm(s_-s_tu)/np.linalg.norm(s_))\n",
    "\n",
    "t0 = time.time()\n",
    "for _ in range(100):\n",
    "    alpha1 = dmd.singvals * dmd.time[:, 0]\n",
    "    s_tu2 = np.linalg.solve((lambd * w), alpha1)\n",
    "t1 = time.time()\n",
    "print(\"tu et al. 2 \", .01 * (t1 - t0), \" s\")\n",
    "print(\"Difference\", np.linalg.norm(s_-s_tu2)/np.linalg.norm(s_))"
   ]
  },
  {
   "cell_type": "code",
   "execution_count": null,
   "metadata": {},
   "outputs": [],
   "source": []
  }
 ],
 "metadata": {
  "kernelspec": {
   "display_name": "Python 3",
   "language": "python",
   "name": "python3"
  },
  "language_info": {
   "codemirror_mode": {
    "name": "ipython",
    "version": 3
   },
   "file_extension": ".py",
   "mimetype": "text/x-python",
   "name": "python",
   "nbconvert_exporter": "python",
   "pygments_lexer": "ipython3",
   "version": "3.8.3"
  }
 },
 "nbformat": 4,
 "nbformat_minor": 4
}
