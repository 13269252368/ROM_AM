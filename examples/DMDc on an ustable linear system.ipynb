{
 "cells": [
  {
   "cell_type": "code",
   "execution_count": 1,
   "id": "7ccc482b",
   "metadata": {},
   "outputs": [],
   "source": [
    "import numpy as np\n",
    "import scipy.sparse as sp\n",
    "from mpl_toolkits import mplot3d\n",
    "from rom_am import DMDc, ROM, DMD\n",
    "import matplotlib.pyplot as plt"
   ]
  },
  {
   "cell_type": "markdown",
   "id": "05dc31ca",
   "metadata": {},
   "source": [
    "## Unstable Linear system"
   ]
  },
  {
   "cell_type": "markdown",
   "id": "08e3ba0b",
   "metadata": {},
   "source": [
    "We consider the following unstable linear system:\n",
    "\n",
    "$$\n",
    "\\begin{pmatrix}\n",
    "x_1  \\\\\n",
    "x_2 \\\\\n",
    "\\end{pmatrix}_{k+1} = \\begin{pmatrix}\n",
    "1.5 & 0  \\\\\n",
    "0 & 0.1 \\\\\n",
    "\\end{pmatrix} \\begin{pmatrix}\n",
    "x_1  \\\\\n",
    "x_2 \\\\\n",
    "\\end{pmatrix}_{k} + \\begin{pmatrix}\n",
    "-3  \\\\\n",
    "0 \\\\\n",
    "\\end{pmatrix} u_k $$\n",
    "\n",
    "Which should be modeled correctly by the DMD with control (DMDc), (of which the Affine DMD is a special case, when the input is fixed) whereas it can't be using the classical DMD.\n",
    "\n",
    "We will use the DMDc to learn $\\pmb{b} = \\begin{pmatrix}\n",
    "-3  \\\\\n",
    "0 \\\\\n",
    "\\end{pmatrix}$ as well as the system matrix $\\pmb{A}$"
   ]
  },
  {
   "cell_type": "markdown",
   "id": "4e8d337c",
   "metadata": {},
   "source": [
    "**Creating the snapshots**"
   ]
  },
  {
   "cell_type": "code",
   "execution_count": 2,
   "id": "f8612ce8",
   "metadata": {},
   "outputs": [],
   "source": [
    "X = np.zeros((2, 4))\n",
    "Y = np.zeros((2, 4))\n",
    "X[:, 0] = np.array([4, 7])\n",
    "\n",
    "A = np.array([[1.5, 0], [0, 0.1]])\n",
    "B = np.array([-3, 0]).reshape((-1, 1))\n",
    "u = np.ones(4)\n",
    "\n",
    "Y[:, 0] = A @ X[:, 0] + B.ravel() * u[0]\n",
    "for i in range(Y.shape[1]-1):\n",
    "    Y[:, i+1] = A @ Y[:, i] + B.ravel() * u[i]\n",
    "X[:, 1::] = Y[:, :-1]"
   ]
  },
  {
   "cell_type": "markdown",
   "id": "60959a39",
   "metadata": {},
   "source": [
    "**DMDc Learning**"
   ]
  },
  {
   "cell_type": "markdown",
   "id": "53e3ddf7",
   "metadata": {},
   "source": [
    "We train the DMDc model on the extracted snapshots"
   ]
  },
  {
   "cell_type": "code",
   "execution_count": 3,
   "id": "1f3ba2a1",
   "metadata": {},
   "outputs": [],
   "source": [
    "#u_input = np.ones((1, X.shape[1]))\n",
    "u_input = u.reshape((1, -1))\n",
    "dt = 10\n",
    "rank = 0\n",
    "dmdc = DMDc()\n",
    "dromc = ROM(dmdc)\n",
    "dromc.decompose(X,  Y = Y, dt = dt, rank =rank, Y_input=u_input)"
   ]
  },
  {
   "cell_type": "markdown",
   "id": "a1bc4878",
   "metadata": {},
   "source": [
    "We can show now the learned matrix $\\pmb{A}$"
   ]
  },
  {
   "cell_type": "code",
   "execution_count": 4,
   "id": "a9fc0e50",
   "metadata": {},
   "outputs": [
    {
     "data": {
      "text/plain": [
       "array([[ 1.50000000e+00, -6.66132691e-16],\n",
       "       [-4.92613273e-17,  1.00000000e-01]])"
      ]
     },
     "execution_count": 4,
     "metadata": {},
     "output_type": "execute_result"
    }
   ],
   "source": [
    "dromc.model.u_hat @ dromc.model.A_tilde @ dromc.model.u_hat.T"
   ]
  },
  {
   "cell_type": "markdown",
   "id": "33f856e8",
   "metadata": {},
   "source": [
    "and the learned matrix $\\pmb{b}$"
   ]
  },
  {
   "cell_type": "code",
   "execution_count": 5,
   "id": "370fd555",
   "metadata": {},
   "outputs": [
    {
     "data": {
      "text/plain": [
       "array([[-3.00000000e+00],\n",
       "       [ 5.55111512e-17]])"
      ]
     },
     "execution_count": 5,
     "metadata": {},
     "output_type": "execute_result"
    }
   ],
   "source": [
    "dromc.model.u_hat @ dromc.model.B_tilde"
   ]
  },
  {
   "cell_type": "markdown",
   "id": "12f4f456",
   "metadata": {},
   "source": [
    "-------------------------------------------------------------------------------------------------------------------------------------------------"
   ]
  },
  {
   "cell_type": "markdown",
   "id": "1fc255c6",
   "metadata": {},
   "source": [
    "**Question : Can DMD learn it too ?**"
   ]
  },
  {
   "cell_type": "markdown",
   "id": "ca23d03d",
   "metadata": {},
   "source": [
    "Obviously, classical DMD is not able to learn a $\\pmb{X}^{k+1} = \\pmb{A} \\pmb{X}^{k} + \\pmb{b}$. And it approximates it through a $\\pmb{X}^{k+1} = \\pmb{A} \\pmb{X}^{k}$ model"
   ]
  },
  {
   "cell_type": "code",
   "execution_count": 6,
   "id": "5510094a",
   "metadata": {},
   "outputs": [],
   "source": [
    "u_input = u.reshape((1, -1))\n",
    "dt = 10\n",
    "rank = 0\n",
    "dmd_ = DMD()\n",
    "drom_ = ROM(dmd_)\n",
    "drom_.decompose(X,  Y = Y, dt = dt, rank =rank,)"
   ]
  },
  {
   "cell_type": "markdown",
   "id": "b0883b69",
   "metadata": {},
   "source": [
    "$\\pmb{A}$ = "
   ]
  },
  {
   "cell_type": "code",
   "execution_count": 7,
   "id": "fbdd68c9",
   "metadata": {},
   "outputs": [
    {
     "data": {
      "text/plain": [
       "array([[5.39578170e-01, 1.14627842e-01],\n",
       "       [1.11900706e-16, 1.00000000e-01]])"
      ]
     },
     "execution_count": 7,
     "metadata": {},
     "output_type": "execute_result"
    }
   ],
   "source": [
    "drom_.modes @ drom_.model.A_tilde @ drom_.modes.T"
   ]
  },
  {
   "cell_type": "code",
   "execution_count": 8,
   "id": "5a6b2235",
   "metadata": {},
   "outputs": [],
   "source": [
    "error_dmd = np.linalg.norm(Y - drom_.modes @ drom_.model.A_tilde @ drom_.modes.T @ X)\n",
    "error_dmdc = np.linalg.norm(Y - (dromc.model.u_hat @ dromc.model.A_tilde @ dromc.model.u_hat.T @ X + dromc.model.u_hat @ dromc.model.B_tilde @ u_input))"
   ]
  },
  {
   "cell_type": "code",
   "execution_count": 9,
   "id": "a0298b8b",
   "metadata": {},
   "outputs": [
    {
     "name": "stdout",
     "output_type": "stream",
     "text": [
      "DMD error : 4.04284239297286\n",
      "DMDc error : 2.3337360971660245e-15\n"
     ]
    }
   ],
   "source": [
    "print(\"DMD error : \"+ str(error_dmd)+\"\\nDMDc error : \"+str(error_dmdc))"
   ]
  },
  {
   "cell_type": "markdown",
   "id": "d923ed9b",
   "metadata": {},
   "source": [
    "------------------------------------------------------------------------------------------------------------------------"
   ]
  },
  {
   "cell_type": "markdown",
   "id": "d7d4b0e1",
   "metadata": {},
   "source": [
    "Answer : In this case, **No**"
   ]
  },
  {
   "cell_type": "markdown",
   "id": "ec811f5c",
   "metadata": {},
   "source": [
    "**DMDc Prediction**"
   ]
  },
  {
   "cell_type": "markdown",
   "id": "9be95cb5",
   "metadata": {},
   "source": [
    "We now make prediction using the learned DMDc model (the time vector is irrelevant in this case)\n",
    "\n",
    "We use here the reduced model (projection on POD of $\\pmb{X}$)\n",
    "\n",
    "$$\\tilde{\\pmb{x}}_{k+1} = \\tilde{\\pmb{A}} \\tilde{\\pmb{x}}_{k}+ \\tilde{\\pmb{b}}$$"
   ]
  },
  {
   "cell_type": "code",
   "execution_count": 10,
   "id": "4f87e5d5",
   "metadata": {},
   "outputs": [],
   "source": [
    "t = np.arange(0, 200, dt)\n",
    "predicted_X = np.real(dromc.predict(t, t1 = t[0], u_input = np.ones((1, t.shape[0]))))"
   ]
  },
  {
   "cell_type": "code",
   "execution_count": 11,
   "id": "b1ec0b8e",
   "metadata": {},
   "outputs": [
    {
     "data": {
      "image/png": "[encoded data removed]",
      "text/plain": [
       "<Figure size 432x288 with 1 Axes>"
      ]
     },
     "metadata": {
      "needs_background": "light"
     },
     "output_type": "display_data"
    }
   ],
   "source": [
    "plt.plot(predicted_X[0, :20], '.-');\n",
    "plt.ylabel(r\"$x_1$\");"
   ]
  },
  {
   "cell_type": "markdown",
   "id": "f9192ba2",
   "metadata": {},
   "source": [
    "(Unstable System) ($\\lambda_1 = 1.5$)"
   ]
  },
  {
   "cell_type": "markdown",
   "id": "0ab142ce",
   "metadata": {},
   "source": [
    "------------------------------------------------------------------------------------------------------"
   ]
  },
  {
   "cell_type": "markdown",
   "id": "e4531b3a",
   "metadata": {},
   "source": [
    "----------------------------------------------------------------------------------------------------"
   ]
  },
  {
   "cell_type": "markdown",
   "id": "267a9a79",
   "metadata": {},
   "source": [
    "On the above case, we have no information on the continuous according system. We will test DMDc (Affine) on another similar system and experiment different prediction strategies"
   ]
  },
  {
   "cell_type": "markdown",
   "id": "4beb7aa6",
   "metadata": {},
   "source": [
    "## Another Linear system"
   ]
  },
  {
   "cell_type": "markdown",
   "id": "6cbdebd5",
   "metadata": {},
   "source": [
    "\n",
    "$$\n",
    "\\begin{pmatrix}\n",
    "\\dot{x_1(t)}  \\\\\n",
    "\\dot{x_2(t)}  \\\\\n",
    "\\end{pmatrix} = \\begin{pmatrix}\n",
    "-10 & 0  \\\\\n",
    "0 & -2 \\\\\n",
    "\\end{pmatrix} \\begin{pmatrix}\n",
    "x_1(t)  \\\\\n",
    "x_2(t) \\\\\n",
    "\\end{pmatrix}_{k} + \\begin{pmatrix}\n",
    "-0.3  \\\\\n",
    "0 \\\\\n",
    "\\end{pmatrix} u_k $$\n",
    "\n",
    "We will then obtain snapshots of $\\pmb{X}_c$ and $\\pmb{Y}_c$ through numerical integration through `scipy.integrate.solve_ivp` (MATLAB's `ode45`-like)"
   ]
  },
  {
   "cell_type": "code",
   "execution_count": 12,
   "id": "87fa8a17",
   "metadata": {},
   "outputs": [],
   "source": [
    "cont_A = np.array([[-10, 0], [0, -2]])\n",
    "cont_B = np.array([-0.3, 0])\n",
    "\n",
    "import scipy.linalg as scia\n",
    "from scipy.integrate import solve_ivp\n",
    "def f(t, y): return cont_A @ y + cont_B\n",
    "sol = solve_ivp(f, [0, 10], np.array([4, 7]))"
   ]
  },
  {
   "cell_type": "markdown",
   "id": "2922f19d",
   "metadata": {},
   "source": [
    "We obtain the analogous discrete matrices through\n",
    "$$\n",
    "\\begin{pmatrix}\n",
    "\\dot{x(t)}  \\\\\n",
    "\\dot{u(t)}  \\\\\n",
    "\\end{pmatrix} = \\pmb{M} \\begin{pmatrix}\n",
    "{x(t)}  \\\\\n",
    "{u(t)}  \\\\\n",
    "\\end{pmatrix} = \\begin{pmatrix}\n",
    "cont\\_A & cont\\_B  \\\\\n",
    "0 & 0 \\\\\n",
    "\\end{pmatrix} \\begin{pmatrix}\n",
    "{x(t)}  \\\\\n",
    "{u(t)}  \\\\\n",
    "\\end{pmatrix} $$\n",
    "\n",
    "and \n",
    "$$\n",
    "\\pmb{F} = e^{\\pmb{M}  \\Delta t} = \\begin{pmatrix}\n",
    "A & B \\\\\n",
    "0 & 1 \\\\\n",
    "\\end{pmatrix} $$\n",
    "\n",
    "Choosing $\\Delta t = 0.05$"
   ]
  },
  {
   "cell_type": "code",
   "execution_count": 13,
   "id": "afbf942d",
   "metadata": {},
   "outputs": [],
   "source": [
    "sample_dt = 0.05\n",
    "M = scia.expm(np.block([[cont_A, cont_B.reshape((-1, 1))], [np.zeros((1, 2)), np.zeros((1, 1))]]) * sample_dt)\n",
    "\n",
    "A = M[:2, :2]\n",
    "B = M[:2, -1]"
   ]
  },
  {
   "cell_type": "code",
   "execution_count": 14,
   "id": "86424ced",
   "metadata": {},
   "outputs": [
    {
     "name": "stdout",
     "output_type": "stream",
     "text": [
      "A =  [[0.60653066 0.        ]\n",
      " [0.         0.90483742]] \n",
      "B =  [-0.01180408  0.        ]\n"
     ]
    }
   ],
   "source": [
    "print(\"A = \", A, \"\\nB = \", B)"
   ]
  },
  {
   "cell_type": "markdown",
   "id": "8c69de66",
   "metadata": {},
   "source": [
    "**Creation of discrete snapshots  $\\pmb{X}$ and $\\pmb{Y}$**\n",
    "\n",
    "The same approach as the previous case. We sample these snapshots on $t = [0, 1.95]$ equally sampled by $\\Delta t$"
   ]
  },
  {
   "cell_type": "code",
   "execution_count": 15,
   "id": "dc02259c",
   "metadata": {},
   "outputs": [],
   "source": [
    "X = np.zeros((2, sol.t.shape[0]))\n",
    "Y = np.zeros((2, sol.t.shape[0]))\n",
    "X[:, 0] = np.array([4, 7])\n",
    "\n",
    "u = np.ones(sol.t.shape[0])\n",
    "\n",
    "Y[:, 0] = A @ X[:, 0] + B.ravel() * u[0]\n",
    "for i in range(Y.shape[1]-1):\n",
    "    Y[:, i+1] = A @ Y[:, i] + B.ravel() * u[i]\n",
    "X[:, 1::] = Y[:, :-1]\n",
    "\n",
    "t = np.arange(0, X.shape[1] * sample_dt, sample_dt)"
   ]
  },
  {
   "cell_type": "code",
   "execution_count": 16,
   "id": "c2ce8b37",
   "metadata": {},
   "outputs": [
    {
     "data": {
      "image/png": "[encoded data removed]",
      "text/plain": [
       "<Figure size 432x288 with 1 Axes>"
      ]
     },
     "metadata": {
      "needs_background": "light"
     },
     "output_type": "display_data"
    }
   ],
   "source": [
    "plt.plot(t, X[0, :], label = \"Discrete system snaps\");\n",
    "plt.plot(sol.t, sol.y[0, :], '--', label = \"Continuous system (solved by scipy) snaps\");\n",
    "plt.legend();\n",
    "plt.grid();\n",
    "plt.tight_layout();"
   ]
  },
  {
   "cell_type": "markdown",
   "id": "8e8cc455",
   "metadata": {},
   "source": [
    "**DMDc (Affine) Learning**"
   ]
  },
  {
   "cell_type": "code",
   "execution_count": 17,
   "id": "72b36652",
   "metadata": {},
   "outputs": [],
   "source": [
    "u_input = np.ones((1, X.shape[1]))\n",
    "rank = 0\n",
    "dmdc = DMDc()\n",
    "dromc = ROM(dmdc)\n",
    "dromc.decompose(X,  Y = Y, dt = sample_dt, rank =rank, Y_input=u_input)"
   ]
  },
  {
   "cell_type": "markdown",
   "id": "82eb1075",
   "metadata": {},
   "source": [
    "**DMDc Prediction**\n",
    "\n",
    "As before, we predict the solution through the discrete approach, on **obligatorily equally sampled timesteps** $t=[0, 3.9s]$ $$\\tilde{\\pmb{x}}_{k+1} = \\tilde{\\pmb{A}} \\tilde{\\pmb{x}}_{k}+ \\tilde{\\pmb{b}}$$"
   ]
  },
  {
   "cell_type": "code",
   "execution_count": 18,
   "id": "92fb5dca",
   "metadata": {},
   "outputs": [],
   "source": [
    "t_pred = np.arange(0, 2*t[-1], sample_dt)"
   ]
  },
  {
   "cell_type": "code",
   "execution_count": 19,
   "id": "51b9e80c",
   "metadata": {},
   "outputs": [
    {
     "data": {
      "image/png": "[encoded data removed]",
      "text/plain": [
       "<Figure size 432x288 with 1 Axes>"
      ]
     },
     "metadata": {
      "needs_background": "light"
     },
     "output_type": "display_data"
    }
   ],
   "source": [
    "predicted_X_1 = np.real(dromc.predict(t, t1 = t[0], u_input = np.ones((1, t_pred.shape[0]))))\n",
    "plt.plot(np.concatenate((t_pred, np.array([t_pred[-1] + sample_dt]))), predicted_X_1[0, :]);\n",
    "plt.title(\"Discrete DMDc prediction\");\n",
    "plt.grid();\n",
    "plt.tight_layout();"
   ]
  },
  {
   "cell_type": "markdown",
   "id": "7b3f5c56",
   "metadata": {},
   "source": [
    "**Continuous prediction !!**"
   ]
  },
  {
   "cell_type": "markdown",
   "id": "6031f631",
   "metadata": {},
   "source": [
    "When the inputs are fixed (our case of Affine DMD), it is possible to write the DMDc prediction on the continuous system, and thus predictions become possible on arbitraty time instants, and benefiting from the eigendecomposition of the DMD operator:\n",
    "$$\\pmb{x(t)} = \\Phi (e^{\\Omega t} \\pmb b - \\Omega^{-1} \\Phi^{\\dagger}\\hat{\\pmb{U}} \\tilde{\\pmb{B}} u_{input}) $$"
   ]
  },
  {
   "cell_type": "code",
   "execution_count": 20,
   "id": "e2ac8122",
   "metadata": {},
   "outputs": [
    {
     "data": {
      "image/png": "[encoded data removed]",
      "text/plain": [
       "<Figure size 432x288 with 1 Axes>"
      ]
     },
     "metadata": {
      "needs_background": "light"
     },
     "output_type": "display_data"
    }
   ],
   "source": [
    "predicted_X = np.real(dromc.predict(t_pred, t1 = t[0], u_input = np.ones((1, t_pred.shape[0])), fixed_input = True))\n",
    "plt.plot(t_pred, predicted_X[0, :]);\n",
    "plt.title(\"Continuous DMDc prediction\");\n",
    "plt.grid();\n",
    "plt.tight_layout();"
   ]
  },
  {
   "cell_type": "code",
   "execution_count": null,
   "id": "6356c0d7-7d9d-4490-b551-5d2ef8b70408",
   "metadata": {},
   "outputs": [],
   "source": []
  }
 ],
 "metadata": {
  "kernelspec": {
   "display_name": "Python 3 (ipykernel)",
   "language": "python",
   "name": "python3"
  },
  "language_info": {
   "codemirror_mode": {
    "name": "ipython",
    "version": 3
   },
   "file_extension": ".py",
   "mimetype": "text/x-python",
   "name": "python",
   "nbconvert_exporter": "python",
   "pygments_lexer": "ipython3",
   "version": "3.8.10"
  }
 },
 "nbformat": 4,
 "nbformat_minor": 5
}
